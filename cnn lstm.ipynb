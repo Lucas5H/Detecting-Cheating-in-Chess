{
 "cells": [
  {
   "cell_type": "code",
   "execution_count": 86,
   "metadata": {},
   "outputs": [],
   "source": [
    "import numpy as np\n",
    "import tensorflow as tf\n",
    "import keras as k\n",
    "import pickle\n",
    "import matplotlib.pyplot as plt\n",
    "%matplotlib inline\n",
    "from keras.models import Sequential, Model\n",
    "from keras.layers import Dense, Dropout, Flatten, TimeDistributed, LSTM\n",
    "from keras.layers import Conv2D, MaxPooling2D, BatchNormalization\n",
    "from keras.optimizers import SGD, Adam\n",
    "from keras.regularizers import l2\n",
    "from keras.models import load_model\n",
    "from keras.preprocessing.image import ImageDataGenerator\n",
    "import h5py\n",
    "from keras.models import load_model\n",
    "from keras.callbacks import EarlyStopping"
   ]
  },
  {
   "cell_type": "markdown",
   "metadata": {},
   "source": [
    "#### Load and prepare data"
   ]
  },
  {
   "cell_type": "code",
   "execution_count": 76,
   "metadata": {},
   "outputs": [
    {
     "name": "stdout",
     "output_type": "stream",
     "text": [
      "(60000, 30, 12, 8, 8)\n"
     ]
    }
   ],
   "source": [
    "with open('chess2040k_3060data', 'rb') as file:\n",
    "    data1 = pickle.load(file)\n",
    "with open('chess4570k_3060data', 'rb') as file:\n",
    "    data2 = pickle.load(file)\n",
    "with open('chess7k_3060data', 'rb') as file:\n",
    "    data3 = pickle.load(file)  \n",
    "with open('chess10k_3060data', 'rb') as file:\n",
    "    data4 = pickle.load(file) \n",
    "data=np.concatenate((data1,data2, data3, data4))\n",
    "print(data.shape)"
   ]
  },
  {
   "cell_type": "code",
   "execution_count": 75,
   "metadata": {},
   "outputs": [
    {
     "name": "stdout",
     "output_type": "stream",
     "text": [
      "(60000,)\n"
     ]
    }
   ],
   "source": [
    "with open('chess2040k_3060labels', 'rb') as file:\n",
    "    labels1 = pickle.load(file)\n",
    "with open('chess4570k_3060labels', 'rb') as file:\n",
    "    labels2 = pickle.load(file)\n",
    "with open('chess7k_3060labels', 'rb') as file:\n",
    "    labels3 = pickle.load(file)\n",
    "with open('chess10k_3060labels', 'rb') as file:\n",
    "    labels4 = pickle.load(file) \n",
    "labels=np.concatenate((labels1.values, labels2.values, labels3.values, labels4.values))              \n",
    "print(labels.shape)"
   ]
  },
  {
   "cell_type": "code",
   "execution_count": 77,
   "metadata": {},
   "outputs": [],
   "source": [
    "'''center data around 0 by subtracting mean. Could also divide by standard dev but values are just 1s and 0s\n",
    "so the scale is ok. Then split in train and test, here 80/20 '''\n",
    "\n",
    "data=data-np.mean(data)\n",
    "n_split=int(len(data)*8/10)\n",
    "x_train=data[:n_split]\n",
    "y_train=labels[:n_split]\n",
    "x_test=data[n_split:]\n",
    "y_test=labels[n_split:]\n",
    "num_classes=2\n",
    "y_train = k.utils.to_categorical(y_train, num_classes)\n",
    "y_test = k.utils.to_categorical(y_test, num_classes)\n",
    "(img_rows, img_cols, channels)=(8,8,12)"
   ]
  },
  {
   "cell_type": "code",
   "execution_count": 78,
   "metadata": {
    "collapsed": true
   },
   "outputs": [],
   "source": [
    "# plotting helper function\n",
    "def plothist(hist):\n",
    "    plt.plot(hist.history['acc'])\n",
    "    plt.plot(hist.history['val_acc'])\n",
    "    plt.title('model accuracy')\n",
    "    plt.ylabel('accuracy')\n",
    "    plt.xlabel('epoch')\n",
    "    plt.legend(['train', 'test'], loc='upper left')\n",
    "    plt.show()"
   ]
  },
  {
   "cell_type": "markdown",
   "metadata": {},
   "source": [
    "#### Set hyperparameters and build model.\n",
    "The initial chess area is 8 x 8 , so we will just use the default of not using padding in our convolutional net. This will reduce the size to 6 x 6 in the first step, 4 x 4 in the next, and finally 2 x 2. THERE WILL BE NO POOLING!!! pooling is useful when it doesn't matter whether a feature is detected on one pixel or the next to it. In chess it matters! the Queen beeing on one or the other field is the difference between a checkmate and a lost game....\n",
    " "
   ]
  },
  {
   "cell_type": "code",
   "execution_count": 98,
   "metadata": {},
   "outputs": [],
   "source": [
    "num_filters=20\n",
    "kernel_size=(3,3)\n",
    "ac='relu'\n",
    "opt=Adam(lr=0.001,decay=0, beta_1=0.9, beta_2=0.999, epsilon=1e-08)\n",
    "drop=0.5\n",
    "reg=None\n",
    "#reg=l2(0.001)\n",
    "early_stopping = EarlyStopping(monitor='val_loss', patience=2)\n",
    "\n",
    "\n",
    "model = Sequential()\n",
    "\n",
    "model.add(TimeDistributed(\n",
    "    Conv2D(num_filters, kernel_size, activation=ac, input_shape=(12, 8, 8), kernel_regularizer=reg, \n",
    "           data_format=\"channels_first\"), input_shape=(30, 12, 8, 8))\n",
    "         )\n",
    "model.add(BatchNormalization(axis=-1))\n",
    "model.add(TimeDistributed(Conv2D(2*num_filters, kernel_size, activation=ac,\n",
    "                                 kernel_regularizer=reg, data_format=\"channels_first\")))\n",
    "model.add(BatchNormalization(axis=-1))\n",
    "model.add(TimeDistributed(Conv2D(4*num_filters, kernel_size, activation=ac,\n",
    "                                 kernel_regularizer=reg, data_format=\"channels_first\")))\n",
    "model.add(BatchNormalization(axis=-1))\n",
    "\n",
    "model.add(TimeDistributed(Flatten()))\n",
    "model.add(LSTM(80))\n",
    "model.add(Dropout(drop))\n",
    "model.add(Dense(30))\n",
    "model.add(Dropout(drop))\n",
    "model.add(Dense(num_classes, activation='softmax'))\n",
    "          \n",
    "model.compile(loss='binary_crossentropy', metrics=['accuracy'],optimizer=opt)"
   ]
  },
  {
   "cell_type": "code",
   "execution_count": 99,
   "metadata": {},
   "outputs": [
    {
     "name": "stdout",
     "output_type": "stream",
     "text": [
      "_________________________________________________________________\n",
      "Layer (type)                 Output Shape              Param #   \n",
      "=================================================================\n",
      "time_distributed_89 (TimeDis (None, 30, 20, 6, 6)      2180      \n",
      "_________________________________________________________________\n",
      "batch_normalization_67 (Batc (None, 30, 20, 6, 6)      24        \n",
      "_________________________________________________________________\n",
      "time_distributed_90 (TimeDis (None, 30, 40, 4, 4)      7240      \n",
      "_________________________________________________________________\n",
      "batch_normalization_68 (Batc (None, 30, 40, 4, 4)      16        \n",
      "_________________________________________________________________\n",
      "time_distributed_91 (TimeDis (None, 30, 80, 2, 2)      28880     \n",
      "_________________________________________________________________\n",
      "batch_normalization_69 (Batc (None, 30, 80, 2, 2)      8         \n",
      "_________________________________________________________________\n",
      "time_distributed_92 (TimeDis (None, 30, 320)           0         \n",
      "_________________________________________________________________\n",
      "lstm_23 (LSTM)               (None, 80)                128320    \n",
      "_________________________________________________________________\n",
      "dropout_45 (Dropout)         (None, 80)                0         \n",
      "_________________________________________________________________\n",
      "dense_45 (Dense)             (None, 30)                2430      \n",
      "_________________________________________________________________\n",
      "dropout_46 (Dropout)         (None, 30)                0         \n",
      "_________________________________________________________________\n",
      "dense_46 (Dense)             (None, 2)                 62        \n",
      "=================================================================\n",
      "Total params: 169,160\n",
      "Trainable params: 169,136\n",
      "Non-trainable params: 24\n",
      "_________________________________________________________________\n"
     ]
    }
   ],
   "source": [
    "model.summary()"
   ]
  },
  {
   "cell_type": "code",
   "execution_count": 100,
   "metadata": {
    "scrolled": true
   },
   "outputs": [
    {
     "name": "stdout",
     "output_type": "stream",
     "text": [
      "Train on 48000 samples, validate on 12000 samples\n",
      "Epoch 1/10\n",
      "48000/48000 [==============================] - 67s 1ms/step - loss: 0.6765 - acc: 0.5964 - val_loss: 0.6556 - val_acc: 0.5948\n",
      "Epoch 2/10\n",
      "48000/48000 [==============================] - 70s 1ms/step - loss: 0.5586 - acc: 0.7215 - val_loss: 0.5077 - val_acc: 0.7470\n",
      "Epoch 3/10\n",
      "48000/48000 [==============================] - 69s 1ms/step - loss: 0.4951 - acc: 0.7673 - val_loss: 0.4680 - val_acc: 0.7722\n",
      "Epoch 4/10\n",
      "48000/48000 [==============================] - 69s 1ms/step - loss: 0.4519 - acc: 0.7920 - val_loss: 0.4592 - val_acc: 0.7816\n",
      "Epoch 5/10\n",
      "48000/48000 [==============================] - 70s 1ms/step - loss: 0.4145 - acc: 0.8129 - val_loss: 0.4562 - val_acc: 0.7860\n",
      "Epoch 6/10\n",
      "48000/48000 [==============================] - 69s 1ms/step - loss: 0.3839 - acc: 0.8296 - val_loss: 0.4453 - val_acc: 0.7907\n",
      "Epoch 7/10\n",
      "48000/48000 [==============================] - 70s 1ms/step - loss: 0.3498 - acc: 0.8488 - val_loss: 0.4519 - val_acc: 0.7935\n",
      "Epoch 8/10\n",
      "48000/48000 [==============================] - 69s 1ms/step - loss: 0.3212 - acc: 0.8642 - val_loss: 0.4594 - val_acc: 0.7922\n"
     ]
    }
   ],
   "source": [
    "history1=model.fit(x_train, y_train, batch_size=128, epochs=20, validation_data=(x_test, y_test),\n",
    "                   callbacks=[early_stopping])"
   ]
  },
  {
   "cell_type": "code",
   "execution_count": 101,
   "metadata": {},
   "outputs": [
    {
     "data": {
      "image/png": "[encoded data removed]",
      "text/plain": [
       "<matplotlib.figure.Figure at 0x25add0b6320>"
      ]
     },
     "metadata": {},
     "output_type": "display_data"
    }
   ],
   "source": [
    "plothist(history1) #drop 0.5, filters 20, LSTM,Dense 80/30, lr 0.001"
   ]
  },
  {
   "cell_type": "code",
   "execution_count": 92,
   "metadata": {
    "scrolled": true
   },
   "outputs": [
    {
     "name": "stdout",
     "output_type": "stream",
     "text": [
      "Train on 48000 samples, validate on 12000 samples\n",
      "Epoch 1/20\n",
      "48000/48000 [==============================] - 66s 1ms/step - loss: 0.6755 - acc: 0.5834 - val_loss: 0.6936 - val_acc: 0.5228\n",
      "Epoch 2/20\n",
      "48000/48000 [==============================] - 69s 1ms/step - loss: 0.5700 - acc: 0.7091 - val_loss: 0.5121 - val_acc: 0.7451\n",
      "Epoch 3/20\n",
      "48000/48000 [==============================] - 69s 1ms/step - loss: 0.5064 - acc: 0.7584 - val_loss: 0.4816 - val_acc: 0.7655\n",
      "Epoch 4/20\n",
      "48000/48000 [==============================] - 70s 1ms/step - loss: 0.4629 - acc: 0.7862 - val_loss: 0.4577 - val_acc: 0.7807\n",
      "Epoch 5/20\n",
      "48000/48000 [==============================] - 71s 1ms/step - loss: 0.4284 - acc: 0.8057 - val_loss: 0.4647 - val_acc: 0.7874\n",
      "Epoch 6/20\n",
      "48000/48000 [==============================] - 72s 2ms/step - loss: 0.3965 - acc: 0.8219 - val_loss: 0.4529 - val_acc: 0.7917\n",
      "Epoch 7/20\n",
      "48000/48000 [==============================] - 70s 1ms/step - loss: 0.3646 - acc: 0.8410 - val_loss: 0.4470 - val_acc: 0.7952\n",
      "Epoch 8/20\n",
      "48000/48000 [==============================] - 70s 1ms/step - loss: 0.3312 - acc: 0.8585 - val_loss: 0.4773 - val_acc: 0.7957\n",
      "Epoch 9/20\n",
      "48000/48000 [==============================] - 70s 1ms/step - loss: 0.3090 - acc: 0.8690 - val_loss: 0.4864 - val_acc: 0.7972\n"
     ]
    }
   ],
   "source": [
    "history2=model.fit(x_train, y_train, batch_size=128, epochs=20, validation_data=(x_test, y_test),\n",
    "                  callbacks=[early_stopping])"
   ]
  },
  {
   "cell_type": "code",
   "execution_count": 93,
   "metadata": {},
   "outputs": [
    {
     "data": {
      "image/png": "[encoded data removed]",
      "text/plain": [
       "<matplotlib.figure.Figure at 0x25ad7a29198>"
      ]
     },
     "metadata": {},
     "output_type": "display_data"
    }
   ],
   "source": [
    "plothist(history2)  # drop 0.5, filters 20, LSTM,Dense 50, lr 0.001"
   ]
  },
  {
   "cell_type": "code",
   "execution_count": 90,
   "metadata": {
    "collapsed": true
   },
   "outputs": [],
   "source": [
    "#model.save('chess_82percent.h5')"
   ]
  },
  {
   "cell_type": "code",
   "execution_count": null,
   "metadata": {
    "collapsed": true
   },
   "outputs": [],
   "source": []
  }
 ],
 "metadata": {
  "kernelspec": {
   "display_name": "Python [conda root]",
   "language": "python",
   "name": "conda-root-py"
  },
  "language_info": {
   "codemirror_mode": {
    "name": "ipython",
    "version": 3
   },
   "file_extension": ".py",
   "mimetype": "text/x-python",
   "name": "python",
   "nbconvert_exporter": "python",
   "pygments_lexer": "ipython3",
   "version": "3.5.3"
  }
 },
 "nbformat": 4,
 "nbformat_minor": 2
}
