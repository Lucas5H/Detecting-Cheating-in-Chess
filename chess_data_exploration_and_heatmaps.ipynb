{
 "cells": [
  {
   "cell_type": "code",
   "execution_count": 3,
   "metadata": {
    "collapsed": true
   },
   "outputs": [],
   "source": [
    "import numpy as np\n",
    "import chess\n",
    "import pandas as pd\n",
    "import io\n",
    "import chess.pgn\n",
    "from io import StringIO\n",
    "import seaborn as sns\n",
    "import matplotlib.pyplot as plt\n",
    "%matplotlib inline\n",
    "import pickle\n",
    "import pgntofen\n",
    "from sklearn.utils import shuffle\n",
    "import gc\n",
    "from dataLoaderAndPreprocessing import loadData, filterAndBalanceData"
   ]
  },
  {
   "cell_type": "markdown",
   "metadata": {},
   "source": [
    "### Data preprocessing and exploration\n",
    "\n",
    "load data (chess games), and filter and balance it so that white player is always human, black is human or computer with 50 percent, and each human or computer have 50 percent winrate. This prevents that the algorithm learns to predict who won the game instead of who played computer-like moves. Also select by game length (15 to 50 moves per player).\n",
    "\n",
    "Detecting computer use in early game stage (<15 moves) doesn't make much sense, it could just be memorized moves. Too long games are more calculation intense and computers don't typicall take that long to beat someone."
   ]
  },
  {
   "cell_type": "code",
   "execution_count": 4,
   "metadata": {},
   "outputs": [
    {
     "data": {
      "text/plain": [
       "70132"
      ]
     },
     "execution_count": 4,
     "metadata": {},
     "output_type": "execute_result"
    }
   ],
   "source": [
    "df= loadData()\n",
    "df=filterAndBalanceData(df, 30, 100)    # game length in halfmoves/ply\n",
    "len(df)"
   ]
  },
  {
   "cell_type": "code",
   "execution_count": 177,
   "metadata": {},
   "outputs": [
    {
     "data": {
      "text/html": [
       "<div>\n",
       "<style>\n",
       "    .dataframe thead tr:only-child th {\n",
       "        text-align: right;\n",
       "    }\n",
       "\n",
       "    .dataframe thead th {\n",
       "        text-align: left;\n",
       "    }\n",
       "\n",
       "    .dataframe tbody tr th {\n",
       "        vertical-align: top;\n",
       "    }\n",
       "</style>\n",
       "<table border=\"1\" class=\"dataframe\">\n",
       "  <thead>\n",
       "    <tr style=\"text-align: right;\">\n",
       "      <th></th>\n",
       "      <th>BlackIsComp</th>\n",
       "      <th>PlyCount</th>\n",
       "      <th>Result</th>\n",
       "      <th>TimeControl</th>\n",
       "      <th>WhiteIsComp</th>\n",
       "      <th>moves</th>\n",
       "    </tr>\n",
       "  </thead>\n",
       "  <tbody>\n",
       "    <tr>\n",
       "      <th>0</th>\n",
       "      <td>0</td>\n",
       "      <td>53</td>\n",
       "      <td>1-0</td>\n",
       "      <td>300+0</td>\n",
       "      <td>0</td>\n",
       "      <td>[e4, c6, d4, d5, e5, Bf5, Nf3, e6, Bd3, Bxd3, ...</td>\n",
       "    </tr>\n",
       "    <tr>\n",
       "      <th>1</th>\n",
       "      <td>0</td>\n",
       "      <td>56</td>\n",
       "      <td>0-1</td>\n",
       "      <td>900+0</td>\n",
       "      <td>0</td>\n",
       "      <td>[e4, e5, Nf3, Nc6, g3, Nf6, d3, Bc5, Bg2, d6, ...</td>\n",
       "    </tr>\n",
       "    <tr>\n",
       "      <th>2</th>\n",
       "      <td>0</td>\n",
       "      <td>98</td>\n",
       "      <td>1-0</td>\n",
       "      <td>900+0</td>\n",
       "      <td>0</td>\n",
       "      <td>[e4, e5, Nf3, Nc6, c3, Bc5, Bb5, d6, Bxc6+, bx...</td>\n",
       "    </tr>\n",
       "    <tr>\n",
       "      <th>3</th>\n",
       "      <td>0</td>\n",
       "      <td>39</td>\n",
       "      <td>1-0</td>\n",
       "      <td>300+0</td>\n",
       "      <td>0</td>\n",
       "      <td>[e4, c5, Bc4, Nc6, d3, d6, Qh5, e6, Nf3, Nf6, ...</td>\n",
       "    </tr>\n",
       "    <tr>\n",
       "      <th>4</th>\n",
       "      <td>1</td>\n",
       "      <td>37</td>\n",
       "      <td>0-1</td>\n",
       "      <td>900+0</td>\n",
       "      <td>0</td>\n",
       "      <td>[d4, Nf6, c4, g6, Nc3, d5, cxd5, Nxd5, e4, Nxc...</td>\n",
       "    </tr>\n",
       "  </tbody>\n",
       "</table>\n",
       "</div>"
      ],
      "text/plain": [
       "   BlackIsComp  PlyCount Result TimeControl  WhiteIsComp  \\\n",
       "0            0        53    1-0       300+0            0   \n",
       "1            0        56    0-1       900+0            0   \n",
       "2            0        98    1-0       900+0            0   \n",
       "3            0        39    1-0       300+0            0   \n",
       "4            1        37    0-1       900+0            0   \n",
       "\n",
       "                                               moves  \n",
       "0  [e4, c6, d4, d5, e5, Bf5, Nf3, e6, Bd3, Bxd3, ...  \n",
       "1  [e4, e5, Nf3, Nc6, g3, Nf6, d3, Bc5, Bg2, d6, ...  \n",
       "2  [e4, e5, Nf3, Nc6, c3, Bc5, Bb5, d6, Bxc6+, bx...  \n",
       "3  [e4, c5, Bc4, Nc6, d3, d6, Qh5, e6, Nf3, Nf6, ...  \n",
       "4  [d4, Nf6, c4, g6, Nc3, d5, cxd5, Nxd5, e4, Nxc...  "
      ]
     },
     "execution_count": 177,
     "metadata": {},
     "output_type": "execute_result"
    }
   ],
   "source": [
    "df.head()"
   ]
  },
  {
   "cell_type": "code",
   "execution_count": 80,
   "metadata": {},
   "outputs": [
    {
     "data": {
      "text/plain": [
       "[0.5, 35066, 0.5, 35066, 0.5, 70132]"
      ]
     },
     "execution_count": 80,
     "metadata": {},
     "output_type": "execute_result"
    }
   ],
   "source": [
    "#double-check winrates and label distribution, should be all balanced\n",
    "winrate_c_black=len(df[(df.BlackIsComp==1)&(df.Result==\"0-1\")])/len(df[(df.BlackIsComp==1)])\n",
    "winrate_h_black=len(df[(df.BlackIsComp==0)&(df.Result==\"0-1\")])/len(df[(df.BlackIsComp==0)])\n",
    "winrate_h_white=len(df[(df.WhiteIsComp==0)&(df.Result==\"1-0\")])/len(df[(df.WhiteIsComp==0)])\n",
    "\n",
    "[winrate_c_black, len(df[(df.BlackIsComp==1)]),\n",
    " winrate_h_black, len(df[(df.BlackIsComp==0)]),\n",
    " winrate_h_white, len(df[(df.WhiteIsComp==0)])]"
   ]
  },
  {
   "cell_type": "code",
   "execution_count": 83,
   "metadata": {},
   "outputs": [
    {
     "name": "stdout",
     "output_type": "stream",
     "text": [
      "mean game length = 63.37343865852963 ply\n"
     ]
    },
    {
     "data": {
      "image/png": "[encoded data removed]",
      "text/plain": [
       "<matplotlib.figure.Figure at 0x1bbcd0818d0>"
      ]
     },
     "metadata": {},
     "output_type": "display_data"
    }
   ],
   "source": [
    "#check game lengths \n",
    "plt.hist(df[df.BlackIsComp==0].PlyCount, bins=range(120))\n",
    "plt.xlim([0,120])\n",
    "plt.xlabel(\"moves (ply)\")\n",
    "plt.ylabel(\"frequency\")\n",
    "plt.title(\"histogram of game lengths (half moves)\")\n",
    "\n",
    "print(\"mean game length = \" + str(np.mean(df[df.BlackIsComp==0].PlyCount)) + \" ply\")\n",
    "plt.show()"
   ]
  },
  {
   "cell_type": "code",
   "execution_count": 84,
   "metadata": {},
   "outputs": [
    {
     "name": "stdout",
     "output_type": "stream",
     "text": [
      "mean game length = 60.365510751154964 ply\n"
     ]
    },
    {
     "data": {
      "image/png": "[encoded data removed]",
      "text/plain": [
       "<matplotlib.figure.Figure at 0x1bc839b2400>"
      ]
     },
     "metadata": {},
     "output_type": "display_data"
    }
   ],
   "source": [
    "plt.hist(df[df.BlackIsComp==1].PlyCount, bins=range(120))\n",
    "plt.xlim([0,120])\n",
    "plt.xlabel(\"moves (ply)\")\n",
    "plt.ylabel(\"frequency\")\n",
    "plt.title(\"histogram of game lengths (half moves)\")\n",
    "\n",
    "print(\"mean game length = \" + str(np.mean(df[df.BlackIsComp==1].PlyCount)) + \" ply\")\n",
    "plt.show()"
   ]
  },
  {
   "cell_type": "markdown",
   "metadata": {},
   "source": [
    "interesting distribution.."
   ]
  },
  {
   "cell_type": "markdown",
   "metadata": {},
   "source": [
    "### Heatmaps"
   ]
  },
  {
   "cell_type": "code",
   "execution_count": 16,
   "metadata": {
    "collapsed": true
   },
   "outputs": [],
   "source": [
    "# turn pgn notation (describing the moves) into a version of the fen notation (describing the board),\n",
    "# with zeros for empty squares instead of the standard notation (e.g. \"00000000\" instead of \"8\" for eight free squares)\n",
    "def moves_to_fen(moves):\n",
    "    fenlist=[]\n",
    "    pgnConverter = pgntofen.PgnToFen()\n",
    "    pgnConverter.resetBoard()\n",
    "    \n",
    "    for move in moves:\n",
    "        pgnConverter.move(str(move))\n",
    "        fen = pgnConverter.getFullFen()             \n",
    "        fen=fen.split(\" \")[0]\n",
    "        fen=fen.replace(\"1\",\"0\").replace(\"2\",\"00\").replace(\"3\",\"000\").replace(\"4\",\"0000\")\n",
    "        fen=fen.replace(\"5\",\"00000\").replace(\"6\",\"000000\").replace(\"7\",\"0000000\").replace(\"8\",\"00000000\")\n",
    "        fen=list(fen.replace(\"/\",\"\"))\n",
    "        fen=np.array(fen)\n",
    "        fen=np.reshape(fen,[8,8])\n",
    "        fenlist.append(fen)\n",
    "    \n",
    "    return fenlist"
   ]
  },
  {
   "cell_type": "code",
   "execution_count": 17,
   "metadata": {
    "collapsed": true
   },
   "outputs": [],
   "source": [
    "def fen_to_heatmap(piece, fenlist):\n",
    "    heatmap=np.zeros((8,8))\n",
    "    for fen in fenlist:                  \n",
    "        for k in range(8):\n",
    "            index=[i for i, pc in enumerate(fen[k]) if pc==piece]\n",
    "            for i in index:\n",
    "                heatmap[k][i]+=1\n",
    "    heatmap=heatmap/len(fenlist)\n",
    "    return heatmap"
   ]
  },
  {
   "cell_type": "code",
   "execution_count": 18,
   "metadata": {
    "collapsed": true
   },
   "outputs": [],
   "source": [
    "def moves_to_heatmap(moves,piece):\n",
    "    fenlist=moves_to_fen(moves)\n",
    "    heatmap=fen_to_heatmap(piece, fenlist)\n",
    "    return heatmap"
   ]
  },
  {
   "cell_type": "code",
   "execution_count": 19,
   "metadata": {
    "collapsed": true
   },
   "outputs": [],
   "source": [
    "# get average heatmap over n_av games\n",
    "def average_heatmap(piece, n_av, pgns):\n",
    "    avHeatmap=np.zeros((8,8))\n",
    "    for pgn in pgns[:n_av]:\n",
    "        heatmap=moves_to_heatmap(pgn, piece)\n",
    "        avHeatmap+=heatmap\n",
    "    avHeatmap/=n_av\n",
    "    return avHeatmap"
   ]
  },
  {
   "cell_type": "code",
   "execution_count": 20,
   "metadata": {
    "collapsed": true
   },
   "outputs": [],
   "source": [
    "def display_heatmap(piece, n_av, pgn):\n",
    "    heatmap=average_heatmap(piece, n_av, pgn)\n",
    "    ax=sns.heatmap(heatmap,xticklabels=[\"A\",\"B\",\"C\",\"D\",\"E\",\"F\",\"G\",\"H\"],yticklabels=[8,7,6,5,4,3,2,1])\n",
    "    if piece.isupper():\n",
    "        color = \"white \"\n",
    "    else:\n",
    "        color = \"black \"\n",
    "    ax.set_title('Heatmap for '+ color +  piece)\n",
    "    return ax"
   ]
  },
  {
   "cell_type": "code",
   "execution_count": 21,
   "metadata": {
    "collapsed": true
   },
   "outputs": [],
   "source": [
    "def displayMultHeatmap(pieces, n_av, pgn):\n",
    "    for piece in pieces:\n",
    "        heatmap=average_heatmap(piece, n_av, pgn)\n",
    "        ax=sns.heatmap(heatmap,xticklabels=[\"A\",\"B\",\"C\",\"D\",\"E\",\"F\",\"G\",\"H\"],yticklabels=[8,7,6,5,4,3,2,1])\n",
    "        if piece.isupper():\n",
    "            color = \"white \"\n",
    "        else:\n",
    "            color = \"black \"\n",
    "        ax.set_title('Heatmap for '+ color +  piece)\n",
    "    \n",
    "    return ax"
   ]
  },
  {
   "cell_type": "code",
   "execution_count": 22,
   "metadata": {},
   "outputs": [],
   "source": [
    "pgn_whiteH=df['moves'][df.WhiteIsComp==0]\n",
    "pgn_blackH=df['moves'][df.BlackIsComp==0]\n",
    "pgn_blackC=df['moves'][df.BlackIsComp==1]"
   ]
  },
  {
   "cell_type": "code",
   "execution_count": 63,
   "metadata": {},
   "outputs": [
    {
     "data": {
      "text/plain": [
       "<matplotlib.axes._subplots.AxesSubplot at 0x1bc35268f28>"
      ]
     },
     "execution_count": 63,
     "metadata": {},
     "output_type": "execute_result"
    },
    {
     "data": {
      "image/png": "[encoded data removed]",
      "text/plain": [
       "<matplotlib.figure.Figure at 0x1bcd529f2e8>"
      ]
     },
     "metadata": {},
     "output_type": "display_data"
    }
   ],
   "source": [
    "display_heatmap(\"B\", 1000, pgn_whiteH)"
   ]
  },
  {
   "cell_type": "code",
   "execution_count": 64,
   "metadata": {},
   "outputs": [
    {
     "data": {
      "text/plain": [
       "<matplotlib.axes._subplots.AxesSubplot at 0x1bcaa5a2b70>"
      ]
     },
     "execution_count": 64,
     "metadata": {},
     "output_type": "execute_result"
    },
    {
     "data": {
      "image/png": "[encoded data removed]",
      "text/plain": [
       "<matplotlib.figure.Figure at 0x1bbc10a64a8>"
      ]
     },
     "metadata": {},
     "output_type": "display_data"
    }
   ],
   "source": [
    "display_heatmap(\"N\", 1000, pgn_whiteH)"
   ]
  },
  {
   "cell_type": "code",
   "execution_count": 52,
   "metadata": {},
   "outputs": [
    {
     "data": {
      "text/plain": [
       "<matplotlib.axes._subplots.AxesSubplot at 0x1bb2bd3d160>"
      ]
     },
     "execution_count": 52,
     "metadata": {},
     "output_type": "execute_result"
    },
    {
     "data": {
      "image/png": "[encoded data removed]",
      "text/plain": [
       "<matplotlib.figure.Figure at 0x1bc97652b38>"
      ]
     },
     "metadata": {},
     "output_type": "display_data"
    }
   ],
   "source": [
    "display_heatmap(\"R\", 1000, pgn_whiteH)"
   ]
  },
  {
   "cell_type": "code",
   "execution_count": 53,
   "metadata": {},
   "outputs": [
    {
     "data": {
      "text/plain": [
       "<matplotlib.axes._subplots.AxesSubplot at 0x1bcb2c2e5f8>"
      ]
     },
     "execution_count": 53,
     "metadata": {},
     "output_type": "execute_result"
    },
    {
     "data": {
      "image/png": "[encoded data removed]",
      "text/plain": [
       "<matplotlib.figure.Figure at 0x1bc9afd3320>"
      ]
     },
     "metadata": {},
     "output_type": "display_data"
    }
   ],
   "source": [
    "display_heatmap(\"K\", 1000, pgn_whiteH)"
   ]
  },
  {
   "cell_type": "code",
   "execution_count": 65,
   "metadata": {},
   "outputs": [
    {
     "data": {
      "text/plain": [
       "<matplotlib.axes._subplots.AxesSubplot at 0x1bbbe8b8358>"
      ]
     },
     "execution_count": 65,
     "metadata": {},
     "output_type": "execute_result"
    },
    {
     "data": {
      "image/png": "[encoded data removed]",
      "text/plain": [
       "<matplotlib.figure.Figure at 0x1bb9f01c048>"
      ]
     },
     "metadata": {},
     "output_type": "display_data"
    }
   ],
   "source": [
    "display_heatmap(\"Q\", 1000, pgn_whiteH)"
   ]
  },
  {
   "cell_type": "code",
   "execution_count": 23,
   "metadata": {},
   "outputs": [
    {
     "data": {
      "text/plain": [
       "<matplotlib.axes._subplots.AxesSubplot at 0x28e518e9f98>"
      ]
     },
     "execution_count": 23,
     "metadata": {},
     "output_type": "execute_result"
    },
    {
     "data": {
      "image/png": "[encoded data removed]",
      "text/plain": [
       "<matplotlib.figure.Figure at 0x28e5bf15e80>"
      ]
     },
     "metadata": {},
     "output_type": "display_data"
    }
   ],
   "source": [
    "display_heatmap(\"p\", 1000, pgn_blackH)"
   ]
  },
  {
   "cell_type": "code",
   "execution_count": 24,
   "metadata": {},
   "outputs": [
    {
     "data": {
      "text/plain": [
       "<matplotlib.axes._subplots.AxesSubplot at 0x28ddbe54048>"
      ]
     },
     "execution_count": 24,
     "metadata": {},
     "output_type": "execute_result"
    },
    {
     "data": {
      "image/png": "[encoded data removed]",
      "text/plain": [
       "<matplotlib.figure.Figure at 0x28da734cf60>"
      ]
     },
     "metadata": {},
     "output_type": "display_data"
    }
   ],
   "source": [
    "display_heatmap(\"p\", 1000, pgn_blackC)"
   ]
  },
  {
   "cell_type": "markdown",
   "metadata": {},
   "source": [
    "### Data preparation for Deep Learning\n",
    "\n",
    "The idea is to create a single tensor of shape (samples x time x 12 x 8 x 8). Here 8x8 is the chess board, 12 is the 6 piece categories per color, and the first dimension is the sample index. For the time index, we'll choose the data of half-move 30 to 60, and if the game has ended before we'll save zeros as the board state, so that each tensor is of equal dimension. "
   ]
  },
  {
   "cell_type": "code",
   "execution_count": 1,
   "metadata": {},
   "outputs": [],
   "source": [
    "def getDataTensor(df, tstart, tend):\n",
    "    pgns=df['moves']\n",
    "    s=len(pgns)\n",
    "    t=tend-tstart\n",
    "    tensor=np.zeros((s, t, 12, 8, 8))\n",
    "    for c, pgn in enumerate(pgns):\n",
    "        game=getGame(pgn, tstart, tend)\n",
    "        tensor[c]=game\n",
    "    return tensor\n",
    "        \n",
    "def getGame(pgn, tstart, tend):\n",
    "    t=tend-tstart\n",
    "    game=np.zeros((t, 12, 8, 8))\n",
    "    if pgn:\n",
    "        fenlist = moves_to_fen(pgn)\n",
    "    else:\n",
    "        fenlist=[]\n",
    "    while len(fenlist)<tend:\n",
    "        fenlist.append(np.zeros((12,8,8)))\n",
    "    fenlist=fenlist[tstart:tend]\n",
    "    for c, fen in enumerate(fenlist):\n",
    "        position=getPosition(fen)\n",
    "        game[c]=position\n",
    "    return game\n",
    "        \n",
    "def getPosition(fen):        \n",
    "    position=np.zeros((12, 8, 8))\n",
    "    pieces = [\"P\",\"R\",\"N\",\"B\",\"Q\",\"K\",\"p\",\"r\",\"n\",\"b\",\"q\",\"k\"]\n",
    "    for c, piece in enumerate(pieces):\n",
    "        channel= (fen == piece)\n",
    "        position[c] = channel\n",
    "    return position\n",
    "\n",
    "def saveDataAndLabels(df, tstart, tend, fname):\n",
    "    data=getDataTensor(df, tstart, tend)\n",
    "    labels=df['BlackIsComp']\n",
    "    dataname=fname + str(tstart)+str(tend)+ \"data\"  \n",
    "    labelname=fname + str(tstart)+str(tend)+ \"labels\"  \n",
    "    with open(dataname, \"wb\") as file:\n",
    "        pickle.dump(data, file, pickle.HIGHEST_PROTOCOL)\n",
    "    with open(labelname, \"wb\") as file:\n",
    "        pickle.dump(labels, file, pickle.HIGHEST_PROTOCOL)\n",
    "    return data.shape, labels.shape, dataname, labelname"
   ]
  },
  {
   "cell_type": "code",
   "execution_count": 190,
   "metadata": {},
   "outputs": [
    {
     "name": "stderr",
     "output_type": "stream",
     "text": [
      "C:\\Users\\mhamb\\Anaconda3\\lib\\site-packages\\ipykernel\\__main__.py:27: FutureWarning: elementwise comparison failed; returning scalar instead, but in the future will perform elementwise comparison\n"
     ]
    },
    {
     "data": {
      "text/plain": [
       "((20000, 30, 12, 8, 8),\n",
       " (20000,),\n",
       " 'chess2040k_3060data',\n",
       " 'chess2040k_3060labels')"
      ]
     },
     "execution_count": 190,
     "metadata": {},
     "output_type": "execute_result"
    }
   ],
   "source": [
    "saveDataAndLabels(df[20000:40000], 30, 60, \"chess2040k_\")"
   ]
  },
  {
   "cell_type": "code",
   "execution_count": 193,
   "metadata": {},
   "outputs": [
    {
     "name": "stderr",
     "output_type": "stream",
     "text": [
      "C:\\Users\\mhamb\\Anaconda3\\lib\\site-packages\\ipykernel\\__main__.py:27: FutureWarning: elementwise comparison failed; returning scalar instead, but in the future will perform elementwise comparison\n"
     ]
    },
    {
     "name": "stdout",
     "output_type": "stream",
     "text": [
      "IndexError, run 0\n",
      "IndexError, run 1\n",
      "division by zero, run 4\n"
     ]
    }
   ],
   "source": [
    "'''some data points are giving me errors, IndexError and division by zero, still have to figure this out.\n",
    "For now, I will just work with the rest...'''\n",
    "\n",
    "for i in range(7):\n",
    "    name=\"chess\" + str(i)\n",
    "    try:\n",
    "        saveDataAndLabels(df[10000*i:10000*(i+1)], 30, 60, name)\n",
    "    except IndexError:\n",
    "        print(\"IndexError, run \"+ str(i))\n",
    "    except ZeroDivisionError:\n",
    "        print(\"division by zero, run \"+str(i))\n",
    "    \n",
    "    "
   ]
  },
  {
   "cell_type": "code",
   "execution_count": 194,
   "metadata": {},
   "outputs": [
    {
     "name": "stderr",
     "output_type": "stream",
     "text": [
      "C:\\Users\\mhamb\\Anaconda3\\lib\\site-packages\\ipykernel\\__main__.py:27: FutureWarning: elementwise comparison failed; returning scalar instead, but in the future will perform elementwise comparison\n"
     ]
    },
    {
     "data": {
      "text/plain": [
       "((20000, 30, 12, 8, 8),\n",
       " (20000,),\n",
       " 'chess5070k_3060data',\n",
       " 'chess5070k_3060labels')"
      ]
     },
     "execution_count": 194,
     "metadata": {},
     "output_type": "execute_result"
    }
   ],
   "source": [
    "saveDataAndLabels(df[50000:70000], 30, 60, \"chess5070k_\")"
   ]
  },
  {
   "cell_type": "code",
   "execution_count": 6,
   "metadata": {},
   "outputs": [
    {
     "name": "stderr",
     "output_type": "stream",
     "text": [
      "C:\\Users\\mhamb\\Anaconda3\\lib\\site-packages\\ipykernel\\__main__.py:30: FutureWarning: elementwise comparison failed; returning scalar instead, but in the future will perform elementwise comparison\n"
     ]
    },
    {
     "data": {
      "text/plain": [
       "((25000, 30, 12, 8, 8),\n",
       " (25000,),\n",
       " 'chess4570k_3060data',\n",
       " 'chess4570k_3060labels')"
      ]
     },
     "execution_count": 6,
     "metadata": {},
     "output_type": "execute_result"
    }
   ],
   "source": [
    "saveDataAndLabels(df[45000:70000], 30, 60, \"chess4570k_\")"
   ]
  },
  {
   "cell_type": "code",
   "execution_count": 12,
   "metadata": {},
   "outputs": [
    {
     "name": "stderr",
     "output_type": "stream",
     "text": [
      "C:\\Users\\mhamb\\Anaconda3\\lib\\site-packages\\ipykernel\\__main__.py:30: FutureWarning: elementwise comparison failed; returning scalar instead, but in the future will perform elementwise comparison\n"
     ]
    },
    {
     "data": {
      "text/plain": [
       "((7000, 30, 12, 8, 8), (7000,), 'chess7k_3060data', 'chess7k_3060labels')"
      ]
     },
     "execution_count": 12,
     "metadata": {},
     "output_type": "execute_result"
    }
   ],
   "source": [
    "saveDataAndLabels(df[:7000], 30, 60, \"chess7k_\")"
   ]
  },
  {
   "cell_type": "code",
   "execution_count": 14,
   "metadata": {},
   "outputs": [
    {
     "name": "stderr",
     "output_type": "stream",
     "text": [
      "C:\\Users\\mhamb\\Anaconda3\\lib\\site-packages\\ipykernel\\__main__.py:30: FutureWarning: elementwise comparison failed; returning scalar instead, but in the future will perform elementwise comparison\n"
     ]
    },
    {
     "data": {
      "text/plain": [
       "((8000, 30, 12, 8, 8), (8000,), 'chess10k_3060data', 'chess10k_3060labels')"
      ]
     },
     "execution_count": 14,
     "metadata": {},
     "output_type": "execute_result"
    }
   ],
   "source": [
    "saveDataAndLabels(df[10000:18000], 30, 60, \"chess10k_\")"
   ]
  },
  {
   "cell_type": "code",
   "execution_count": null,
   "metadata": {
    "collapsed": true
   },
   "outputs": [],
   "source": []
  }
 ],
 "metadata": {
  "kernelspec": {
   "display_name": "Python [conda root]",
   "language": "python",
   "name": "conda-root-py"
  },
  "language_info": {
   "codemirror_mode": {
    "name": "ipython",
    "version": 3
   },
   "file_extension": ".py",
   "mimetype": "text/x-python",
   "name": "python",
   "nbconvert_exporter": "python",
   "pygments_lexer": "ipython3",
   "version": "3.5.3"
  }
 },
 "nbformat": 4,
 "nbformat_minor": 2
}
